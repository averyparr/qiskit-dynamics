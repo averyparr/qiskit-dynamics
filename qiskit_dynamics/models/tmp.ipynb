{
 "cells": [
  {
   "cell_type": "code",
   "execution_count": 1,
   "source": [
    "from scipy.sparse import csr_matrix,dia_matrix\n",
    "from numpy import dot,array,random,eye,ones\n",
    "import numpy as np"
   ],
   "outputs": [],
   "metadata": {}
  },
  {
   "cell_type": "code",
   "execution_count": 2,
   "source": [
    "n=500\n",
    "k = 10"
   ],
   "outputs": [],
   "metadata": {}
  },
  {
   "cell_type": "code",
   "execution_count": 3,
   "source": [
    "r1 = random.uniform(-1,1,(k,n,n))\n",
    "r2 = random.uniform(-1,1,(n,n,k))\n",
    "o = ones((1,1,k))\n",
    "freqs = np.exp(1j*np.arange(k))\n",
    "state = random.uniform(-1,1,n)\n",
    "rho = random.uniform(-1,1,(n,n))"
   ],
   "outputs": [],
   "metadata": {}
  },
  {
   "cell_type": "code",
   "execution_count": 4,
   "source": [
    "x=(np.trace(np.tensordot(np.tensordot(r1,rho,axes=1),freqs*np.transpose(r2,[0,1,2]),axes=1),axis1=0,axis2=3)-np.trace(np.tensordot(r1,np.tensordot(rho,freqs*np.transpose(r2,[0,1,2]),axes=1),axes=1),axis1=0,axis2=3))\n",
    "a=np.trace(np.tensordot(np.tensordot(r1,rho,axes=1),freqs*np.transpose(r2,[0,1,2]),axes=1),axis1=0,axis2=3)\n",
    "\n",
    "np.max(np.abs(x))\n"
   ],
   "outputs": [
    {
     "output_type": "execute_result",
     "data": {
      "text/plain": [
       "9.849670420387302e-13"
      ]
     },
     "metadata": {},
     "execution_count": 4
    }
   ],
   "metadata": {}
  },
  {
   "cell_type": "code",
   "execution_count": 8,
   "source": [
    "def forfunc():\n",
    "    arr = np.zeros((k,n,n),dtype=np.complex128)\n",
    "    for i in range(k):\n",
    "        arr[i]=freqs[i]*np.dot(r1[i],np.dot(rho,r2[:,:,i]))\n",
    "    return arr\n",
    "\n",
    "def altfunc(r1,rho,r2):\n",
    "    return np.matmul(r1,rho)\n",
    "\n",
    "\n",
    "af = np.vectorize(altfunc,signature='(i,j,k),(k,l),(i,l,m)->(i,j,m)')\n",
    "\n",
    "print(np.max(np.abs(np.sum(forfunc(),0)-a)))\n",
    "\n",
    "%timeit forfunc()"
   ],
   "outputs": [
    {
     "output_type": "stream",
     "name": "stdout",
     "text": [
      "1.080118446774342e-12\n",
      "52.8 ms ± 854 µs per loop (mean ± std. dev. of 7 runs, 10 loops each)\n"
     ]
    }
   ],
   "metadata": {}
  },
  {
   "cell_type": "code",
   "execution_count": 25,
   "source": [
    "x = np.copy(np.matmul(r1,rho))\n",
    "%timeit np.matmul(r1,rho)"
   ],
   "outputs": [
    {
     "output_type": "stream",
     "name": "stdout",
     "text": [
      "10.5 ms ± 327 µs per loop (mean ± std. dev. of 7 runs, 100 loops each)\n"
     ]
    }
   ],
   "metadata": {}
  },
  {
   "cell_type": "code",
   "execution_count": 29,
   "source": [
    "print(x.shape)\n",
    "xp = np.transpose(r2,[2,0,1]).copy()\n",
    "xpp= np.matmul(x,xp)\n",
    "%timeit np.matmul(np.matmul(r1,rho),xp)"
   ],
   "outputs": [
    {
     "output_type": "stream",
     "name": "stdout",
     "text": [
      "(10, 500, 500)\n",
      "20.8 ms ± 630 µs per loop (mean ± std. dev. of 7 runs, 10 loops each)\n"
     ]
    }
   ],
   "metadata": {}
  },
  {
   "cell_type": "code",
   "execution_count": 44,
   "source": [
    "rho = np.array([[1,1],[1,-1]])\n",
    "r1 = np.array([\n",
    "    [[0,1],[1,0]],\n",
    "    [[0,-1],[1,0]],\n",
    "    [[1,0],[0,-1]],\n",
    "    [[1,0],[0,1]]\n",
    "])\n",
    "r2 = np.array([\n",
    "    [[1,0],[0,1]],\n",
    "    [[0,-1],[1,0]],\n",
    "    [[1,0],[0,1]],\n",
    "    [[1,0],[0,-1]]\n",
    "])\n",
    "\n",
    "r = np.transpose(np.array([r1,r2]),[0,1,2,3])\n",
    "print(r.shape)"
   ],
   "outputs": [
    {
     "output_type": "stream",
     "name": "stdout",
     "text": [
      "(2, 4, 2, 2)\n"
     ]
    }
   ],
   "metadata": {}
  },
  {
   "cell_type": "code",
   "execution_count": 60,
   "source": [
    "x1 = r==np.eye(2)\n",
    "x2 = np.all(np.all(x1,axis=3),axis=2)\n",
    "print(x2)\n",
    "\n",
    "left = np.logical_and(np.logical_not(x2[0]),x2[1])\n",
    "right= np.logical_and(x2[0],np.logical_not(x2[1]))\n",
    "both = np.logical_and(np.logical_not(x2[0]),np.logical_not(x2[1]))\n",
    "print(left,right,both)\n",
    "r[True]"
   ],
   "outputs": [
    {
     "output_type": "stream",
     "name": "stdout",
     "text": [
      "[[False False False  True]\n",
      " [ True False  True False]]\n",
      "[ True False  True False] [False False False  True] [False  True False False]\n"
     ]
    },
    {
     "output_type": "execute_result",
     "data": {
      "text/plain": [
       "(1, 2, 4, 2, 2)"
      ]
     },
     "metadata": {},
     "execution_count": 60
    }
   ],
   "metadata": {}
  },
  {
   "cell_type": "code",
   "execution_count": 61,
   "source": [
    "np.broadcast_to([True],r.shape).shape"
   ],
   "outputs": [
    {
     "output_type": "execute_result",
     "data": {
      "text/plain": [
       "(2, 4, 2, 2)"
      ]
     },
     "metadata": {},
     "execution_count": 61
    }
   ],
   "metadata": {}
  },
  {
   "cell_type": "code",
   "execution_count": 71,
   "source": [
    "tmptruth = np.array([[j for k in range(4)] for j in range(2)]).astype(bool)"
   ],
   "outputs": [],
   "metadata": {}
  },
  {
   "cell_type": "code",
   "execution_count": 77,
   "source": [
    "tmp = np.array([[j+1j*k for k in range(4)] for j in range(2)])\n",
    "print(tmp)\n",
    "np.broadcast_to(both,(2,both.shape[0]))"
   ],
   "outputs": [
    {
     "output_type": "stream",
     "name": "stdout",
     "text": [
      "[[0.+0.j 0.+1.j 0.+2.j 0.+3.j]\n",
      " [1.+0.j 1.+1.j 1.+2.j 1.+3.j]]\n"
     ]
    },
    {
     "output_type": "execute_result",
     "data": {
      "text/plain": [
       "array([[False,  True, False, False],\n",
       "       [False,  True, False, False]])"
      ]
     },
     "metadata": {},
     "execution_count": 77
    }
   ],
   "metadata": {}
  },
  {
   "cell_type": "code",
   "execution_count": null,
   "source": [],
   "outputs": [],
   "metadata": {}
  }
 ],
 "metadata": {
  "orig_nbformat": 4,
  "language_info": {
   "name": "python",
   "version": "3.9.1",
   "mimetype": "text/x-python",
   "codemirror_mode": {
    "name": "ipython",
    "version": 3
   },
   "pygments_lexer": "ipython3",
   "nbconvert_exporter": "python",
   "file_extension": ".py"
  },
  "kernelspec": {
   "name": "python3",
   "display_name": "Python 3.9.1 64-bit ('base': conda)"
  },
  "interpreter": {
   "hash": "eb411da3053a7693eff01eace9911d65b26ce6d8d2bd8b5334141d8d06adc99c"
  }
 },
 "nbformat": 4,
 "nbformat_minor": 2
}